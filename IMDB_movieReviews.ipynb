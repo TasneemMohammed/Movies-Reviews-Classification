{
  "nbformat": 4,
  "nbformat_minor": 0,
  "metadata": {
    "colab": {
      "provenance": []
    },
    "kernelspec": {
      "name": "python3",
      "display_name": "Python 3"
    },
    "language_info": {
      "name": "python"
    }
  },
  "cells": [
    {
      "cell_type": "code",
      "execution_count": 76,
      "metadata": {
        "id": "Ttr_08pV1DC5"
      },
      "outputs": [],
      "source": [
        "from keras.datasets import imdb\n",
        "from keras.layers import GRU, LSTM, Activation, Dense\n",
        "from keras.preprocessing.sequence import pad_sequences\n",
        "from keras.models import Sequential\n",
        "import pandas as pd\n",
        "from keras.layers import Embedding, Conv1D, MaxPooling1D, GlobalMaxPooling1D\n",
        "import keras\n",
        "from keras.callbacks import EarlyStopping, ModelCheckpoint"
      ]
    },
    {
      "cell_type": "code",
      "source": [
        "num_words = 30000\n",
        "max_length = 300"
      ],
      "metadata": {
        "id": "yPVqQhQv7C7x"
      },
      "execution_count": 65,
      "outputs": []
    },
    {
      "cell_type": "code",
      "source": [
        "(x_train, y_train),(x_test, y_test) = imdb.load_data(num_words=num_words)"
      ],
      "metadata": {
        "id": "bC6Go7Ucir0s"
      },
      "execution_count": 66,
      "outputs": []
    },
    {
      "cell_type": "code",
      "source": [
        "x_val = x_test[:15000]\n",
        "y_val = y_test[:15000]\n",
        "x_test = x_test[15000:]\n",
        "y_test = y_test[15000:]\n",
        "print(x_train.shape, \" \", y_train.shape)\n",
        "print(x_val.shape, \" \", y_val.shape)\n",
        "print(x_test.shape, \" \", y_test.shape)"
      ],
      "metadata": {
        "colab": {
          "base_uri": "https://localhost:8080/"
        },
        "id": "C2EuGc1Bi0tx",
        "outputId": "ea4d6834-e7dc-48d1-a9e6-7a25165513e3"
      },
      "execution_count": 67,
      "outputs": [
        {
          "output_type": "stream",
          "name": "stdout",
          "text": [
            "(25000,)   (25000,)\n",
            "(15000,)   (15000,)\n",
            "(10000,)   (10000,)\n"
          ]
        }
      ]
    },
    {
      "cell_type": "code",
      "source": [
        "# pad sequence with zeros\n",
        "# padding parameters is set to 'post' => zeros are appended to the end of the sequence\n",
        "x_train = pad_sequences(x_train, maxlen= max_length, padding='post')\n",
        "x_val = pad_sequences(x_val, maxlen= max_length, padding='post')\n",
        "x_test = pad_sequences(x_test, maxlen= max_length, padding='post')\n",
        "print(x_train.shape, \" \", x_test.shape)\n",
        "\n",
        "x_train = x_train.reshape(x_train.shape + (1,))\n",
        "x_val = x_val.reshape(x_val.shape + (1,))\n",
        "x_test = x_test.reshape(x_test.shape + (1,))\n",
        "\n",
        "print(x_train.shape, \" \", x_val.shape, \" \", x_test.shape)"
      ],
      "metadata": {
        "colab": {
          "base_uri": "https://localhost:8080/"
        },
        "id": "zcFVGp397ly_",
        "outputId": "e6c718dc-6c18-4ec9-8dbc-8893dd089436"
      },
      "execution_count": 68,
      "outputs": [
        {
          "output_type": "stream",
          "name": "stdout",
          "text": [
            "(25000, 300)   (10000, 300)\n",
            "(25000, 300, 1)   (15000, 300, 1)   (10000, 300, 1)\n"
          ]
        }
      ]
    },
    {
      "cell_type": "code",
      "source": [
        "# train\n",
        "all_train_words = []\n",
        "for sentence in x_train:\n",
        "   for word in sentence:\n",
        "    all_train_words.append(word.item())"
      ],
      "metadata": {
        "id": "TbNO2Cekth7h"
      },
      "execution_count": null,
      "outputs": []
    },
    {
      "cell_type": "code",
      "source": [
        "print(len(all_train_words))\n",
        "unique_train_words = set(all_train_words)\n",
        "print(len(unique_train_words))"
      ],
      "metadata": {
        "colab": {
          "base_uri": "https://localhost:8080/"
        },
        "id": "Oem3Qh3tqqdk",
        "outputId": "5ebcdf58-a43f-4c5f-9de8-3a3e0b993dbe"
      },
      "execution_count": 69,
      "outputs": [
        {
          "output_type": "stream",
          "name": "stdout",
          "text": [
            "7500000\n",
            "29966\n"
          ]
        }
      ]
    },
    {
      "cell_type": "code",
      "source": [
        "# val\n",
        "all_val_words = []\n",
        "for sentence in x_val:\n",
        "   for word in sentence:\n",
        "    all_val_words.append(word.item())"
      ],
      "metadata": {
        "id": "bs3Q4bUjuCRu"
      },
      "execution_count": 70,
      "outputs": []
    },
    {
      "cell_type": "code",
      "source": [
        "print(len(all_val_words))\n",
        "unique_val_words = set(all_val_words)\n",
        "print(len(unique_val_words))"
      ],
      "metadata": {
        "colab": {
          "base_uri": "https://localhost:8080/"
        },
        "id": "v-dxq8CcuJsF",
        "outputId": "d3a865f6-d139-4909-f7c5-6f1118df0cf6"
      },
      "execution_count": 71,
      "outputs": [
        {
          "output_type": "stream",
          "name": "stdout",
          "text": [
            "4500000\n",
            "26767\n"
          ]
        }
      ]
    },
    {
      "cell_type": "code",
      "source": [
        "# test\n",
        "all_test_words = []\n",
        "for sentence in x_test:\n",
        "   for word in sentence:\n",
        "    all_test_words.append(word.item())"
      ],
      "metadata": {
        "id": "-p5fBWU0uQ9O"
      },
      "execution_count": 72,
      "outputs": []
    },
    {
      "cell_type": "code",
      "source": [
        "print(len(all_test_words))\n",
        "unique_test_words = set(all_test_words)\n",
        "print(len(unique_test_words))"
      ],
      "metadata": {
        "colab": {
          "base_uri": "https://localhost:8080/"
        },
        "id": "SWT2_x5AuX29",
        "outputId": "ae6a99bc-6af2-4888-a232-b90c9ec9e84b"
      },
      "execution_count": 73,
      "outputs": [
        {
          "output_type": "stream",
          "name": "stdout",
          "text": [
            "3000000\n",
            "25598\n"
          ]
        }
      ]
    },
    {
      "cell_type": "code",
      "source": [
        "def gru_model():\n",
        "  model = Sequential()\n",
        "  model.add(Embedding(30000, 50, input_length=300))\n",
        "  model.add(GRU(50, input_shape=(300,1), return_sequences=True))\n",
        "  model.add(GRU(1, return_sequences=False))\n",
        "  model.add(Activation(\"sigmoid\"))\n",
        "\n",
        "  model.compile(loss='binary_crossentropy', optimizer='adam', metrics=[\"accuracy\"])\n",
        "  model.summary()\n",
        "  return model"
      ],
      "metadata": {
        "id": "gZDYTFGR9Ov3"
      },
      "execution_count": 83,
      "outputs": []
    },
    {
      "cell_type": "code",
      "source": [
        "gru_model = gru_model()"
      ],
      "metadata": {
        "id": "2Jm3VGDzneBO",
        "colab": {
          "base_uri": "https://localhost:8080/"
        },
        "outputId": "fbf40be3-9131-4172-bc3f-4ef6e19de21c"
      },
      "execution_count": 84,
      "outputs": [
        {
          "output_type": "stream",
          "name": "stdout",
          "text": [
            "Model: \"sequential_7\"\n",
            "_________________________________________________________________\n",
            " Layer (type)                Output Shape              Param #   \n",
            "=================================================================\n",
            " embedding_2 (Embedding)     (None, 300, 50)           1500000   \n",
            "                                                                 \n",
            " gru_9 (GRU)                 (None, 300, 50)           15300     \n",
            "                                                                 \n",
            " gru_10 (GRU)                (None, 1)                 159       \n",
            "                                                                 \n",
            " activation_4 (Activation)   (None, 1)                 0         \n",
            "                                                                 \n",
            "=================================================================\n",
            "Total params: 1515459 (5.78 MB)\n",
            "Trainable params: 1515459 (5.78 MB)\n",
            "Non-trainable params: 0 (0.00 Byte)\n",
            "_________________________________________________________________\n"
          ]
        }
      ]
    },
    {
      "cell_type": "code",
      "source": [
        "#early_stop = EarlyStopping(monitor='val_loss', patience = 10, restore_best_weights = True)\n",
        "#gru_model.fit(x_train, y_train, validation_data=(x_val,y_val), batch_size=256, epochs=20, verbose=1, callbacks=[early_stop])\n",
        "gru_model.fit(x_train, y_train, validation_data=(x_val,y_val), batch_size=256, epochs=20, verbose=1)"
      ],
      "metadata": {
        "colab": {
          "base_uri": "https://localhost:8080/"
        },
        "id": "rsEQnWD3yKgl",
        "outputId": "5db930b4-6e23-4cb3-b7d6-e5d8b0883a46"
      },
      "execution_count": 85,
      "outputs": [
        {
          "output_type": "stream",
          "name": "stdout",
          "text": [
            "Epoch 1/20\n",
            "98/98 [==============================] - 98s 967ms/step - loss: 0.6904 - accuracy: 0.5179 - val_loss: 0.6807 - val_accuracy: 0.5427\n",
            "Epoch 2/20\n",
            "98/98 [==============================] - 103s 1s/step - loss: 0.6675 - accuracy: 0.6294 - val_loss: 0.6399 - val_accuracy: 0.6726\n",
            "Epoch 3/20\n",
            "98/98 [==============================] - 102s 1s/step - loss: 0.7103 - accuracy: 0.6030 - val_loss: 0.7742 - val_accuracy: 0.5390\n",
            "Epoch 4/20\n",
            "98/98 [==============================] - 99s 1s/step - loss: 0.7798 - accuracy: 0.5334 - val_loss: 0.7813 - val_accuracy: 0.5319\n",
            "Epoch 5/20\n",
            "98/98 [==============================] - 98s 1s/step - loss: 0.7796 - accuracy: 0.5336 - val_loss: 0.7812 - val_accuracy: 0.5320\n",
            "Epoch 6/20\n",
            "98/98 [==============================] - 98s 1s/step - loss: 0.7731 - accuracy: 0.5360 - val_loss: 0.6806 - val_accuracy: 0.5673\n",
            "Epoch 7/20\n",
            "98/98 [==============================] - 98s 1s/step - loss: 0.7113 - accuracy: 0.5945 - val_loss: 0.6776 - val_accuracy: 0.6373\n",
            "Epoch 8/20\n",
            "98/98 [==============================] - 98s 1000ms/step - loss: 0.6647 - accuracy: 0.6494 - val_loss: 0.6582 - val_accuracy: 0.6553\n",
            "Epoch 9/20\n",
            "98/98 [==============================] - 100s 1s/step - loss: 0.6621 - accuracy: 0.6514 - val_loss: 0.6560 - val_accuracy: 0.6554\n",
            "Epoch 10/20\n",
            "98/98 [==============================] - 98s 1s/step - loss: 0.6495 - accuracy: 0.6613 - val_loss: 0.6239 - val_accuracy: 0.6885\n",
            "Epoch 11/20\n",
            "98/98 [==============================] - 97s 997ms/step - loss: 0.6113 - accuracy: 0.7020 - val_loss: 0.6219 - val_accuracy: 0.6913\n",
            "Epoch 12/20\n",
            "98/98 [==============================] - 97s 994ms/step - loss: 0.6409 - accuracy: 0.6714 - val_loss: 0.8095 - val_accuracy: 0.5018\n",
            "Epoch 13/20\n",
            "98/98 [==============================] - 124s 1s/step - loss: 0.7390 - accuracy: 0.5233 - val_loss: 0.6843 - val_accuracy: 0.5291\n",
            "Epoch 14/20\n",
            "98/98 [==============================] - 100s 1s/step - loss: 0.6667 - accuracy: 0.5669 - val_loss: 0.6757 - val_accuracy: 0.5411\n",
            "Epoch 15/20\n",
            "98/98 [==============================] - 98s 1s/step - loss: 0.6477 - accuracy: 0.5880 - val_loss: 0.6663 - val_accuracy: 0.5516\n",
            "Epoch 16/20\n",
            "98/98 [==============================] - 110s 1s/step - loss: 0.5607 - accuracy: 0.7503 - val_loss: 0.4892 - val_accuracy: 0.8257\n",
            "Epoch 17/20\n",
            "98/98 [==============================] - 104s 1s/step - loss: 0.4278 - accuracy: 0.8849 - val_loss: 0.4618 - val_accuracy: 0.8471\n",
            "Epoch 18/20\n",
            "98/98 [==============================] - 102s 1s/step - loss: 0.3888 - accuracy: 0.9238 - val_loss: 0.4532 - val_accuracy: 0.8558\n",
            "Epoch 19/20\n",
            "98/98 [==============================] - 106s 1s/step - loss: 0.3720 - accuracy: 0.9415 - val_loss: 0.4427 - val_accuracy: 0.8671\n",
            "Epoch 20/20\n",
            "98/98 [==============================] - 98s 1s/step - loss: 0.3615 - accuracy: 0.9522 - val_loss: 0.4555 - val_accuracy: 0.8540\n"
          ]
        },
        {
          "output_type": "execute_result",
          "data": {
            "text/plain": [
              "<keras.src.callbacks.History at 0x7ad19ab601c0>"
            ]
          },
          "metadata": {},
          "execution_count": 85
        }
      ]
    },
    {
      "cell_type": "code",
      "source": [
        "score = gru_model.evaluate(x_test, y_test, verbose=0)\n",
        "print(score[1]*100)\n",
        "# needs more training"
      ],
      "metadata": {
        "colab": {
          "base_uri": "https://localhost:8080/"
        },
        "id": "mQK5A-jkyRNf",
        "outputId": "af96772a-745d-4ea9-ed58-b3b2cf8b45aa"
      },
      "execution_count": 86,
      "outputs": [
        {
          "output_type": "stream",
          "name": "stdout",
          "text": [
            "85.31000018119812\n"
          ]
        }
      ]
    },
    {
      "cell_type": "code",
      "source": [
        "def cnn_model():\n",
        "  model = Sequential()\n",
        "  model.add(Embedding(30000, 45, input_length=300))\n",
        "  model.add(Conv1D(16, 5, activation='relu'))\n",
        "  model.add(GlobalMaxPooling1D())\n",
        "  model.add(Dense(1, activation='sigmoid'))\n",
        "\n",
        "  model.compile(loss='binary_crossentropy', optimizer='adam', metrics=[\"accuracy\"])\n",
        "  model.summary()\n",
        "  return model"
      ],
      "metadata": {
        "id": "BapB8QZjnwTf"
      },
      "execution_count": 169,
      "outputs": []
    },
    {
      "cell_type": "code",
      "source": [
        "cnn_model = cnn_model()"
      ],
      "metadata": {
        "id": "84g_jkEo-uZH",
        "colab": {
          "base_uri": "https://localhost:8080/"
        },
        "outputId": "c1ac955b-6e39-4a5a-a6f5-2cf06174481b"
      },
      "execution_count": 170,
      "outputs": [
        {
          "output_type": "stream",
          "name": "stdout",
          "text": [
            "Model: \"sequential_28\"\n",
            "_________________________________________________________________\n",
            " Layer (type)                Output Shape              Param #   \n",
            "=================================================================\n",
            " embedding_23 (Embedding)    (None, 300, 45)           1350000   \n",
            "                                                                 \n",
            " conv1d_28 (Conv1D)          (None, 296, 16)           3616      \n",
            "                                                                 \n",
            " global_max_pooling1d_21 (G  (None, 16)                0         \n",
            " lobalMaxPooling1D)                                              \n",
            "                                                                 \n",
            " dense_23 (Dense)            (None, 1)                 17        \n",
            "                                                                 \n",
            "=================================================================\n",
            "Total params: 1353633 (5.16 MB)\n",
            "Trainable params: 1353633 (5.16 MB)\n",
            "Non-trainable params: 0 (0.00 Byte)\n",
            "_________________________________________________________________\n"
          ]
        }
      ]
    },
    {
      "cell_type": "code",
      "source": [
        "cnn_model.fit(x_train, y_train, validation_data=(x_val,y_val), batch_size=256, epochs=7, verbose=1)"
      ],
      "metadata": {
        "colab": {
          "base_uri": "https://localhost:8080/"
        },
        "id": "g1HQzToU_NAE",
        "outputId": "59b31f2a-b342-49ea-eb2f-4c36b4e213b4"
      },
      "execution_count": 171,
      "outputs": [
        {
          "output_type": "stream",
          "name": "stdout",
          "text": [
            "Epoch 1/7\n",
            "98/98 [==============================] - 16s 151ms/step - loss: 0.6558 - accuracy: 0.6813 - val_loss: 0.5606 - val_accuracy: 0.7785\n",
            "Epoch 2/7\n",
            "98/98 [==============================] - 15s 156ms/step - loss: 0.4477 - accuracy: 0.8151 - val_loss: 0.3882 - val_accuracy: 0.8309\n",
            "Epoch 3/7\n",
            "98/98 [==============================] - 14s 145ms/step - loss: 0.3130 - accuracy: 0.8772 - val_loss: 0.3302 - val_accuracy: 0.8588\n",
            "Epoch 4/7\n",
            "98/98 [==============================] - 14s 147ms/step - loss: 0.2245 - accuracy: 0.9207 - val_loss: 0.3072 - val_accuracy: 0.8693\n",
            "Epoch 5/7\n",
            "98/98 [==============================] - 14s 141ms/step - loss: 0.1582 - accuracy: 0.9520 - val_loss: 0.3028 - val_accuracy: 0.8721\n",
            "Epoch 6/7\n",
            "98/98 [==============================] - 14s 140ms/step - loss: 0.1087 - accuracy: 0.9716 - val_loss: 0.3068 - val_accuracy: 0.8729\n",
            "Epoch 7/7\n",
            "98/98 [==============================] - 14s 141ms/step - loss: 0.0732 - accuracy: 0.9844 - val_loss: 0.3192 - val_accuracy: 0.8703\n"
          ]
        },
        {
          "output_type": "execute_result",
          "data": {
            "text/plain": [
              "<keras.src.callbacks.History at 0x7ad1aa84e620>"
            ]
          },
          "metadata": {},
          "execution_count": 171
        }
      ]
    },
    {
      "cell_type": "code",
      "source": [
        "score = cnn_model.evaluate(x_test, y_test, verbose=0)\n",
        "print(score[1]*100)\n",
        "# needs more training"
      ],
      "metadata": {
        "id": "2NjcKESDDEOJ",
        "colab": {
          "base_uri": "https://localhost:8080/"
        },
        "outputId": "6fa9b36a-eb00-468a-8a9d-109e5d408d16"
      },
      "execution_count": 172,
      "outputs": [
        {
          "output_type": "stream",
          "name": "stdout",
          "text": [
            "87.6200020313263\n"
          ]
        }
      ]
    }
  ]
}